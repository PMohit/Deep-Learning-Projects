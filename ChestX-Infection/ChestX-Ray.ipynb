{
 "cells": [
  {
   "cell_type": "code",
   "execution_count": 1,
   "metadata": {},
   "outputs": [],
   "source": [
    " \n",
    "import tensorflow as tf\n",
    "\n",
    "from tensorflow.keras.layers import Input, Lambda, Dense, Flatten,Conv2D\n",
    "from tensorflow.keras.models import Model\n",
    "from tensorflow.keras.applications.vgg19 import VGG19\n",
    "from tensorflow.keras.applications.resnet50 import preprocess_input\n",
    "from tensorflow.keras.preprocessing import image\n",
    "from tensorflow.keras.preprocessing.image import ImageDataGenerator,load_img\n",
    "from tensorflow.keras.models import Sequential\n",
    "import numpy as np\n",
    "from glob import glob\n",
    "import matplotlib.pyplot as plt"
   ]
  },
  {
   "cell_type": "code",
   "execution_count": 3,
   "metadata": {},
   "outputs": [],
   "source": [
    "# re-size all the images to this\n",
    "IMAGE_SIZE = [224, 224]\n",
    "\n",
    "train_path = 'Datasets/train'\n",
    "valid_path = 'Datasets/test'"
   ]
  },
  {
   "cell_type": "code",
   "execution_count": 4,
   "metadata": {},
   "outputs": [
    {
     "name": "stderr",
     "output_type": "stream",
     "text": [
      "WARNING: Logging before flag parsing goes to stderr.\n",
      "W0806 11:33:01.838599 14600 deprecation.py:506] From C:\\Users\\acer\\Anaconda\\envs\\tensorflow_cpu\\lib\\site-packages\\tensorflow_core\\python\\ops\\resource_variable_ops.py:1630: calling BaseResourceVariable.__init__ (from tensorflow.python.ops.resource_variable_ops) with constraint is deprecated and will be removed in a future version.\n",
      "Instructions for updating:\n",
      "If using Keras pass *_constraint arguments to layers.\n"
     ]
    }
   ],
   "source": [
    "# Import the Vgg 16 library as shown below and add preprocessing layer to the front of VGG\n",
    "# Here we will be using imagenet weights\n",
    "\n",
    "\n",
    "vgg = VGG19(input_shape=IMAGE_SIZE + [3], weights='imagenet', include_top=False)"
   ]
  },
  {
   "cell_type": "code",
   "execution_count": 5,
   "metadata": {},
   "outputs": [],
   "source": [
    "# don't train existing weights\n",
    "for layer in vgg.layers:\n",
    "    layer.trainable = False"
   ]
  },
  {
   "cell_type": "code",
   "execution_count": 6,
   "metadata": {},
   "outputs": [],
   "source": [
    "# useful for getting number of output classes\n",
    "folders = glob('Datasets/train/*')"
   ]
  },
  {
   "cell_type": "code",
   "execution_count": 7,
   "metadata": {},
   "outputs": [],
   "source": [
    "\n",
    "# our layers - you can add more if you want\n",
    "x = Flatten()(vgg.output)"
   ]
  },
  {
   "cell_type": "code",
   "execution_count": 8,
   "metadata": {},
   "outputs": [],
   "source": [
    "prediction = Dense(len(folders), activation='softmax')(x)\n",
    "\n",
    "# create a model object\n",
    "\n",
    "model = Model(inputs=vgg.input, outputs=prediction)"
   ]
  },
  {
   "cell_type": "code",
   "execution_count": 9,
   "metadata": {},
   "outputs": [
    {
     "name": "stdout",
     "output_type": "stream",
     "text": [
      "Model: \"model\"\n",
      "_________________________________________________________________\n",
      "Layer (type)                 Output Shape              Param #   \n",
      "=================================================================\n",
      "input_1 (InputLayer)         [(None, 224, 224, 3)]     0         \n",
      "_________________________________________________________________\n",
      "block1_conv1 (Conv2D)        (None, 224, 224, 64)      1792      \n",
      "_________________________________________________________________\n",
      "block1_conv2 (Conv2D)        (None, 224, 224, 64)      36928     \n",
      "_________________________________________________________________\n",
      "block1_pool (MaxPooling2D)   (None, 112, 112, 64)      0         \n",
      "_________________________________________________________________\n",
      "block2_conv1 (Conv2D)        (None, 112, 112, 128)     73856     \n",
      "_________________________________________________________________\n",
      "block2_conv2 (Conv2D)        (None, 112, 112, 128)     147584    \n",
      "_________________________________________________________________\n",
      "block2_pool (MaxPooling2D)   (None, 56, 56, 128)       0         \n",
      "_________________________________________________________________\n",
      "block3_conv1 (Conv2D)        (None, 56, 56, 256)       295168    \n",
      "_________________________________________________________________\n",
      "block3_conv2 (Conv2D)        (None, 56, 56, 256)       590080    \n",
      "_________________________________________________________________\n",
      "block3_conv3 (Conv2D)        (None, 56, 56, 256)       590080    \n",
      "_________________________________________________________________\n",
      "block3_conv4 (Conv2D)        (None, 56, 56, 256)       590080    \n",
      "_________________________________________________________________\n",
      "block3_pool (MaxPooling2D)   (None, 28, 28, 256)       0         \n",
      "_________________________________________________________________\n",
      "block4_conv1 (Conv2D)        (None, 28, 28, 512)       1180160   \n",
      "_________________________________________________________________\n",
      "block4_conv2 (Conv2D)        (None, 28, 28, 512)       2359808   \n",
      "_________________________________________________________________\n",
      "block4_conv3 (Conv2D)        (None, 28, 28, 512)       2359808   \n",
      "_________________________________________________________________\n",
      "block4_conv4 (Conv2D)        (None, 28, 28, 512)       2359808   \n",
      "_________________________________________________________________\n",
      "block4_pool (MaxPooling2D)   (None, 14, 14, 512)       0         \n",
      "_________________________________________________________________\n",
      "block5_conv1 (Conv2D)        (None, 14, 14, 512)       2359808   \n",
      "_________________________________________________________________\n",
      "block5_conv2 (Conv2D)        (None, 14, 14, 512)       2359808   \n",
      "_________________________________________________________________\n",
      "block5_conv3 (Conv2D)        (None, 14, 14, 512)       2359808   \n",
      "_________________________________________________________________\n",
      "block5_conv4 (Conv2D)        (None, 14, 14, 512)       2359808   \n",
      "_________________________________________________________________\n",
      "block5_pool (MaxPooling2D)   (None, 7, 7, 512)         0         \n",
      "_________________________________________________________________\n",
      "flatten (Flatten)            (None, 25088)             0         \n",
      "_________________________________________________________________\n",
      "dense (Dense)                (None, 2)                 50178     \n",
      "=================================================================\n",
      "Total params: 20,074,562\n",
      "Trainable params: 50,178\n",
      "Non-trainable params: 20,024,384\n",
      "_________________________________________________________________\n"
     ]
    }
   ],
   "source": [
    "# view the structure of the model\n",
    "model.summary()"
   ]
  },
  {
   "cell_type": "code",
   "execution_count": 10,
   "metadata": {},
   "outputs": [],
   "source": [
    "# tell the model what cost and optimization method to use\n",
    "model.compile(\n",
    "  loss='categorical_crossentropy',\n",
    "  optimizer='adam',\n",
    "  metrics=['accuracy']\n",
    ")\n"
   ]
  },
  {
   "cell_type": "code",
   "execution_count": 11,
   "metadata": {},
   "outputs": [
    {
     "name": "stderr",
     "output_type": "stream",
     "text": [
      "Using TensorFlow backend.\n"
     ]
    }
   ],
   "source": [
    "# Use the Image Data Generator to import the images from the dataset\n",
    "from keras.preprocessing.image import ImageDataGenerator\n",
    "\n",
    "train_datagen = ImageDataGenerator(rescale = 1./255,\n",
    "                     \n",
    "                                   shear_range = 0.2,\n",
    "                                   zoom_range = 0.2,\n",
    "                                   horizontal_flip = True)\n",
    "\n",
    "test_datagen = ImageDataGenerator(rescale = 1./255)"
   ]
  },
  {
   "cell_type": "code",
   "execution_count": 12,
   "metadata": {},
   "outputs": [
    {
     "name": "stdout",
     "output_type": "stream",
     "text": [
      "Found 5216 images belonging to 2 classes.\n"
     ]
    }
   ],
   "source": [
    "# Make sure you provide the same target size as initialied for the image size\n",
    "training_set = train_datagen.flow_from_directory('Datasets/train',\n",
    "                                                 target_size = (224, 224),\n",
    "                                                 batch_size = 32,\n",
    "                                                 class_mode = 'categorical')"
   ]
  },
  {
   "cell_type": "code",
   "execution_count": 13,
   "metadata": {},
   "outputs": [
    {
     "name": "stdout",
     "output_type": "stream",
     "text": [
      "Found 624 images belonging to 2 classes.\n"
     ]
    }
   ],
   "source": [
    "test_set = test_datagen.flow_from_directory('Datasets/test',\n",
    "                                            target_size = (224, 224),\n",
    "                                            batch_size = 32,\n",
    "                                            class_mode = 'categorical')"
   ]
  },
  {
   "cell_type": "code",
   "execution_count": 14,
   "metadata": {},
   "outputs": [
    {
     "name": "stdout",
     "output_type": "stream",
     "text": [
      "Epoch 1/50\n",
      "162/163 [============================>.] - ETA: 1s - loss: 0.2491 - acc: 0.9128Epoch 1/50\n",
      "163/163 [==============================] - 277s 2s/step - loss: 0.2486 - acc: 0.9130 - val_loss: 0.2877 - val_acc: 0.8974\n",
      "Epoch 2/50\n",
      "162/163 [============================>.] - ETA: 1s - loss: 0.1308 - acc: 0.9475Epoch 1/50\n",
      "163/163 [==============================] - 199s 1s/step - loss: 0.1307 - acc: 0.9477 - val_loss: 0.2822 - val_acc: 0.9006\n",
      "Epoch 3/50\n",
      "162/163 [============================>.] - ETA: 1s - loss: 0.1262 - acc: 0.9547Epoch 1/50\n",
      "163/163 [==============================] - 197s 1s/step - loss: 0.1273 - acc: 0.9544 - val_loss: 0.3200 - val_acc: 0.9135\n",
      "Epoch 4/50\n",
      "162/163 [============================>.] - ETA: 1s - loss: 0.1469 - acc: 0.9468Epoch 1/50\n",
      "163/163 [==============================] - 201s 1s/step - loss: 0.1464 - acc: 0.9469 - val_loss: 0.3044 - val_acc: 0.9151\n",
      "Epoch 5/50\n",
      "162/163 [============================>.] - ETA: 1s - loss: 0.1150 - acc: 0.9583Epoch 1/50\n",
      "163/163 [==============================] - 196s 1s/step - loss: 0.1144 - acc: 0.9586 - val_loss: 0.4349 - val_acc: 0.8910\n",
      "Epoch 6/50\n",
      "162/163 [============================>.] - ETA: 1s - loss: 0.1006 - acc: 0.9637Epoch 1/50\n",
      "163/163 [==============================] - 196s 1s/step - loss: 0.1008 - acc: 0.9636 - val_loss: 0.2758 - val_acc: 0.9006\n",
      "Epoch 7/50\n",
      "162/163 [============================>.] - ETA: 1s - loss: 0.0854 - acc: 0.9668Epoch 1/50\n",
      "163/163 [==============================] - 195s 1s/step - loss: 0.0849 - acc: 0.9670 - val_loss: 0.3012 - val_acc: 0.9135\n",
      "Epoch 8/50\n",
      "162/163 [============================>.] - ETA: 1s - loss: 0.0841 - acc: 0.9672Epoch 1/50\n",
      "163/163 [==============================] - 196s 1s/step - loss: 0.0847 - acc: 0.9672 - val_loss: 0.4935 - val_acc: 0.8894\n",
      "Epoch 9/50\n",
      "162/163 [============================>.] - ETA: 1s - loss: 0.0931 - acc: 0.9651Epoch 1/50\n",
      "163/163 [==============================] - 196s 1s/step - loss: 0.0938 - acc: 0.9647 - val_loss: 0.3756 - val_acc: 0.9038\n",
      "Epoch 10/50\n",
      "162/163 [============================>.] - ETA: 1s - loss: 0.0936 - acc: 0.9637Epoch 1/50\n",
      "163/163 [==============================] - 195s 1s/step - loss: 0.0935 - acc: 0.9636 - val_loss: 0.4014 - val_acc: 0.9135\n",
      "Epoch 11/50\n",
      "162/163 [============================>.] - ETA: 1s - loss: 0.0826 - acc: 0.9715Epoch 1/50\n",
      "163/163 [==============================] - 196s 1s/step - loss: 0.0824 - acc: 0.9716 - val_loss: 0.5594 - val_acc: 0.8606\n",
      "Epoch 12/50\n",
      "162/163 [============================>.] - ETA: 14s - loss: 0.0797 - acc: 0.9699Epoch 1/50\n",
      "163/163 [==============================] - 2409s 15s/step - loss: 0.0793 - acc: 0.9701 - val_loss: 1.0191 - val_acc: 0.7885\n",
      "Epoch 13/50\n",
      "162/163 [============================>.] - ETA: 1s - loss: 0.1083 - acc: 0.9626Epoch 1/50\n",
      "163/163 [==============================] - 234s 1s/step - loss: 0.1083 - acc: 0.9626 - val_loss: 0.3834 - val_acc: 0.9071\n",
      "Epoch 14/50\n",
      "162/163 [============================>.] - ETA: 1s - loss: 0.0781 - acc: 0.9715Epoch 1/50\n",
      "163/163 [==============================] - 235s 1s/step - loss: 0.0792 - acc: 0.9711 - val_loss: 0.3082 - val_acc: 0.9135\n",
      "Epoch 15/50\n",
      "162/163 [============================>.] - ETA: 1s - loss: 0.0860 - acc: 0.9705Epoch 1/50\n",
      "163/163 [==============================] - 231s 1s/step - loss: 0.0862 - acc: 0.9705 - val_loss: 0.5225 - val_acc: 0.9022\n",
      "Epoch 16/50\n",
      "162/163 [============================>.] - ETA: 1s - loss: 0.0672 - acc: 0.9736Epoch 1/50\n",
      "163/163 [==============================] - 183s 1s/step - loss: 0.0670 - acc: 0.9737 - val_loss: 0.6071 - val_acc: 0.8750\n",
      "Epoch 17/50\n",
      "162/163 [============================>.] - ETA: 0s - loss: 0.0865 - acc: 0.9686Epoch 1/50\n",
      "163/163 [==============================] - 168s 1s/step - loss: 0.0861 - acc: 0.9686 - val_loss: 0.3525 - val_acc: 0.9167\n",
      "Epoch 18/50\n",
      "162/163 [============================>.] - ETA: 0s - loss: 0.0577 - acc: 0.9796Epoch 1/50\n",
      "163/163 [==============================] - 165s 1s/step - loss: 0.0580 - acc: 0.9793 - val_loss: 0.3464 - val_acc: 0.9151\n",
      "Epoch 19/50\n",
      "162/163 [============================>.] - ETA: 0s - loss: 0.0667 - acc: 0.9745Epoch 1/50\n",
      "163/163 [==============================] - 168s 1s/step - loss: 0.0664 - acc: 0.9747 - val_loss: 0.4709 - val_acc: 0.9006\n",
      "Epoch 20/50\n",
      "162/163 [============================>.] - ETA: 0s - loss: 0.0846 - acc: 0.9689Epoch 1/50\n",
      "163/163 [==============================] - 174s 1s/step - loss: 0.0842 - acc: 0.9691 - val_loss: 0.5044 - val_acc: 0.8974\n",
      "Epoch 21/50\n",
      "162/163 [============================>.] - ETA: 0s - loss: 0.0628 - acc: 0.9797Epoch 1/50\n",
      "163/163 [==============================] - 163s 999ms/step - loss: 0.0624 - acc: 0.9799 - val_loss: 0.3654 - val_acc: 0.9199\n",
      "Epoch 22/50\n",
      "162/163 [============================>.] - ETA: 1s - loss: 0.0700 - acc: 0.9769Epoch 1/50\n",
      "163/163 [==============================] - 181s 1s/step - loss: 0.0696 - acc: 0.9770 - val_loss: 0.4748 - val_acc: 0.9151\n",
      "Epoch 23/50\n",
      "162/163 [============================>.] - ETA: 0s - loss: 0.0851 - acc: 0.9716Epoch 1/50\n",
      "163/163 [==============================] - 172s 1s/step - loss: 0.0850 - acc: 0.9716 - val_loss: 0.5460 - val_acc: 0.9022\n",
      "Epoch 24/50\n",
      "162/163 [============================>.] - ETA: 0s - loss: 0.0634 - acc: 0.9772Epoch 1/50\n",
      "163/163 [==============================] - 177s 1s/step - loss: 0.0637 - acc: 0.9772 - val_loss: 0.4946 - val_acc: 0.9006\n",
      "Epoch 25/50\n",
      "162/163 [============================>.] - ETA: 1s - loss: 0.0651 - acc: 0.9780Epoch 1/50\n",
      "163/163 [==============================] - 191s 1s/step - loss: 0.0654 - acc: 0.9778 - val_loss: 0.4040 - val_acc: 0.9135\n",
      "Epoch 26/50\n",
      "162/163 [============================>.] - ETA: 1s - loss: 0.0736 - acc: 0.9755Epoch 1/50\n",
      "163/163 [==============================] - 183s 1s/step - loss: 0.0732 - acc: 0.9757 - val_loss: 0.4843 - val_acc: 0.9135\n",
      "Epoch 27/50\n",
      "162/163 [============================>.] - ETA: 0s - loss: 0.0693 - acc: 0.9767Epoch 1/50\n",
      "163/163 [==============================] - 177s 1s/step - loss: 0.0698 - acc: 0.9764 - val_loss: 0.4335 - val_acc: 0.8782\n",
      "Epoch 28/50\n",
      "162/163 [============================>.] - ETA: 0s - loss: 0.0732 - acc: 0.9753Epoch 1/50\n",
      "163/163 [==============================] - 180s 1s/step - loss: 0.0728 - acc: 0.9755 - val_loss: 0.4042 - val_acc: 0.9087\n",
      "Epoch 29/50\n",
      "162/163 [============================>.] - ETA: 1s - loss: 0.0829 - acc: 0.9726Epoch 1/50\n",
      "163/163 [==============================] - 185s 1s/step - loss: 0.0831 - acc: 0.9726 - val_loss: 0.4207 - val_acc: 0.8926\n",
      "Epoch 30/50\n",
      "162/163 [============================>.] - ETA: 1s - loss: 0.0645 - acc: 0.9786Epoch 1/50\n",
      "163/163 [==============================] - 182s 1s/step - loss: 0.0642 - acc: 0.9787 - val_loss: 0.3702 - val_acc: 0.9071\n",
      "Epoch 31/50\n",
      "162/163 [============================>.] - ETA: 1s - loss: 0.0562 - acc: 0.9807Epoch 1/50\n",
      "163/163 [==============================] - 183s 1s/step - loss: 0.0569 - acc: 0.9804 - val_loss: 0.4319 - val_acc: 0.9167\n",
      "Epoch 32/50\n",
      "162/163 [============================>.] - ETA: 0s - loss: 0.0997 - acc: 0.9668Epoch 1/50\n",
      "163/163 [==============================] - 175s 1s/step - loss: 0.0993 - acc: 0.9670 - val_loss: 0.5578 - val_acc: 0.9087\n",
      "Epoch 33/50\n",
      "162/163 [============================>.] - ETA: 0s - loss: 0.0636 - acc: 0.9778Epoch 1/50\n",
      "163/163 [==============================] - 178s 1s/step - loss: 0.0632 - acc: 0.9780 - val_loss: 0.4641 - val_acc: 0.9151\n",
      "Epoch 34/50\n",
      "162/163 [============================>.] - ETA: 1s - loss: 0.0651 - acc: 0.9784Epoch 1/50\n",
      "163/163 [==============================] - 181s 1s/step - loss: 0.0653 - acc: 0.9781 - val_loss: 0.5164 - val_acc: 0.9167\n",
      "Epoch 35/50\n",
      "162/163 [============================>.] - ETA: 1s - loss: 0.0341 - acc: 0.9880Epoch 1/50\n",
      "163/163 [==============================] - 181s 1s/step - loss: 0.0341 - acc: 0.9879 - val_loss: 0.5877 - val_acc: 0.9071\n",
      "Epoch 36/50\n",
      "162/163 [============================>.] - ETA: 1s - loss: 0.0517 - acc: 0.9836Epoch 1/50\n",
      "163/163 [==============================] - 186s 1s/step - loss: 0.0514 - acc: 0.9837 - val_loss: 0.4884 - val_acc: 0.9151\n",
      "Epoch 37/50\n",
      "162/163 [============================>.] - ETA: 0s - loss: 0.0568 - acc: 0.9813Epoch 1/50\n",
      "163/163 [==============================] - 178s 1s/step - loss: 0.0570 - acc: 0.9812 - val_loss: 0.4623 - val_acc: 0.9103\n",
      "Epoch 38/50\n",
      "162/163 [============================>.] - ETA: 1s - loss: 0.0578 - acc: 0.9809Epoch 1/50\n",
      "163/163 [==============================] - 182s 1s/step - loss: 0.0579 - acc: 0.9808 - val_loss: 0.6811 - val_acc: 0.8958\n",
      "Epoch 39/50\n",
      "162/163 [============================>.] - ETA: 1s - loss: 0.0590 - acc: 0.9815Epoch 1/50\n",
      "163/163 [==============================] - 184s 1s/step - loss: 0.0586 - acc: 0.9816 - val_loss: 0.6354 - val_acc: 0.8958\n",
      "Epoch 40/50\n",
      "162/163 [============================>.] - ETA: 1s - loss: 0.0460 - acc: 0.9826Epoch 1/50\n",
      "163/163 [==============================] - 191s 1s/step - loss: 0.0459 - acc: 0.9827 - val_loss: 0.7801 - val_acc: 0.8702\n",
      "Epoch 41/50\n",
      "162/163 [============================>.] - ETA: 0s - loss: 0.0489 - acc: 0.9811Epoch 1/50\n",
      "163/163 [==============================] - 156s 960ms/step - loss: 0.0486 - acc: 0.9812 - val_loss: 0.4570 - val_acc: 0.8750\n",
      "Epoch 42/50\n",
      "162/163 [============================>.] - ETA: 0s - loss: 0.0535 - acc: 0.9805Epoch 1/50\n",
      "163/163 [==============================] - 164s 1s/step - loss: 0.0535 - acc: 0.9804 - val_loss: 0.3830 - val_acc: 0.9199\n",
      "Epoch 43/50\n",
      "162/163 [============================>.] - ETA: 0s - loss: 0.0535 - acc: 0.9813Epoch 1/50\n",
      "163/163 [==============================] - 149s 917ms/step - loss: 0.0532 - acc: 0.9814 - val_loss: 0.8101 - val_acc: 0.8750\n",
      "Epoch 44/50\n",
      "162/163 [============================>.] - ETA: 0s - loss: 0.0574 - acc: 0.9817Epoch 1/50\n",
      "163/163 [==============================] - 167s 1s/step - loss: 0.0573 - acc: 0.9816 - val_loss: 0.7287 - val_acc: 0.8862\n",
      "Epoch 45/50\n",
      "162/163 [============================>.] - ETA: 0s - loss: 0.0911 - acc: 0.9716Epoch 1/50\n",
      "163/163 [==============================] - 168s 1s/step - loss: 0.0908 - acc: 0.9716 - val_loss: 0.5351 - val_acc: 0.9183\n",
      "Epoch 46/50\n",
      "162/163 [============================>.] - ETA: 0s - loss: 0.0718 - acc: 0.9774Epoch 1/50\n",
      "163/163 [==============================] - 162s 997ms/step - loss: 0.0714 - acc: 0.9776 - val_loss: 0.4486 - val_acc: 0.9215\n",
      "Epoch 47/50\n",
      "162/163 [============================>.] - ETA: 0s - loss: 0.0759 - acc: 0.9769Epoch 1/50\n",
      "163/163 [==============================] - 162s 992ms/step - loss: 0.0759 - acc: 0.9768 - val_loss: 0.7066 - val_acc: 0.9119\n",
      "Epoch 48/50\n",
      "162/163 [============================>.] - ETA: 0s - loss: 0.0525 - acc: 0.9836Epoch 1/50\n",
      "163/163 [==============================] - 167s 1s/step - loss: 0.0521 - acc: 0.9837 - val_loss: 0.7134 - val_acc: 0.8942\n",
      "Epoch 49/50\n",
      "162/163 [============================>.] - ETA: 0s - loss: 0.0711 - acc: 0.9786Epoch 1/50\n",
      "163/163 [==============================] - 162s 995ms/step - loss: 0.0707 - acc: 0.9787 - val_loss: 0.7555 - val_acc: 0.8878\n",
      "Epoch 50/50\n",
      "162/163 [============================>.] - ETA: 0s - loss: 0.0599 - acc: 0.9805Epoch 1/50\n",
      "163/163 [==============================] - 161s 990ms/step - loss: 0.0611 - acc: 0.9804 - val_loss: 1.3148 - val_acc: 0.8269\n"
     ]
    }
   ],
   "source": [
    "\n",
    "# fit the model\n",
    "# Run the cell. It will take some time to execute\n",
    "r = model.fit_generator(\n",
    "  training_set,\n",
    "  validation_data=test_set,\n",
    "  epochs=50,\n",
    "  steps_per_epoch=len(training_set),\n",
    "  validation_steps=len(test_set)\n",
    ")"
   ]
  },
  {
   "cell_type": "code",
   "execution_count": 16,
   "metadata": {},
   "outputs": [
    {
     "data": {
      "image/png": "[encoded data removed]",
      "text/plain": [
       "<Figure size 432x288 with 1 Axes>"
      ]
     },
     "metadata": {
      "needs_background": "light"
     },
     "output_type": "display_data"
    },
    {
     "data": {
      "image/png": "[encoded data removed]",
      "text/plain": [
       "<Figure size 432x288 with 1 Axes>"
      ]
     },
     "metadata": {
      "needs_background": "light"
     },
     "output_type": "display_data"
    },
    {
     "data": {
      "text/plain": [
       "<Figure size 432x288 with 0 Axes>"
      ]
     },
     "metadata": {},
     "output_type": "display_data"
    }
   ],
   "source": [
    "# plot the loss\n",
    "plt.plot(r.history['loss'], label='train loss')\n",
    "plt.plot(r.history['val_loss'], label='val loss')\n",
    "plt.legend()\n",
    "plt.show()\n",
    "plt.savefig('LossVal_loss')\n",
    "\n",
    "# plot the accuracy\n",
    "plt.plot(r.history['acc'], label='train acc')\n",
    "plt.plot(r.history['val_acc'], label='val acc')\n",
    "plt.legend()\n",
    "plt.show()\n",
    "plt.savefig('AccVal_acc')"
   ]
  },
  {
   "cell_type": "code",
   "execution_count": 15,
   "metadata": {},
   "outputs": [],
   "source": [
    "# save it as a h5 file\n",
    "\n",
    "import tensorflow as tf\n",
    "\n",
    "from keras.models import load_model\n",
    "\n",
    "model.save('model_vgg16.h5')"
   ]
  },
  {
   "cell_type": "code",
   "execution_count": 17,
   "metadata": {},
   "outputs": [],
   "source": [
    "y_pred = model.predict(test_set)"
   ]
  },
  {
   "cell_type": "code",
   "execution_count": 18,
   "metadata": {},
   "outputs": [
    {
     "data": {
      "text/plain": [
       "array([[9.6932673e-01, 3.0673277e-02],\n",
       "       [8.1937289e-01, 1.8062712e-01],\n",
       "       [1.8121190e-09, 1.0000000e+00],\n",
       "       ...,\n",
       "       [5.0293285e-05, 9.9994969e-01],\n",
       "       [5.6889918e-02, 9.4311011e-01],\n",
       "       [1.4393556e-10, 1.0000000e+00]], dtype=float32)"
      ]
     },
     "execution_count": 18,
     "metadata": {},
     "output_type": "execute_result"
    }
   ],
   "source": [
    "y_pred"
   ]
  },
  {
   "cell_type": "code",
   "execution_count": 19,
   "metadata": {},
   "outputs": [],
   "source": [
    "import numpy as np\n",
    "y_pred = np.argmax(y_pred, axis=1)"
   ]
  },
  {
   "cell_type": "code",
   "execution_count": 20,
   "metadata": {},
   "outputs": [
    {
     "data": {
      "text/plain": [
       "array([0, 0, 1, 1, 1, 1, 1, 0, 1, 1, 1, 1, 1, 1, 0, 1, 1, 1, 0, 1, 1, 1,\n",
       "       1, 1, 1, 1, 0, 1, 0, 0, 1, 1, 1, 1, 1, 1, 0, 0, 1, 1, 0, 0, 1, 0,\n",
       "       1, 1, 1, 1, 1, 0, 1, 1, 0, 1, 1, 1, 0, 1, 0, 0, 1, 1, 1, 1, 1, 1,\n",
       "       1, 1, 0, 1, 1, 1, 0, 0, 0, 1, 1, 0, 1, 0, 1, 1, 1, 1, 1, 1, 1, 1,\n",
       "       1, 1, 0, 1, 0, 1, 1, 0, 1, 1, 1, 1, 0, 1, 1, 1, 1, 1, 0, 1, 1, 1,\n",
       "       1, 1, 1, 1, 1, 0, 1, 1, 1, 1, 1, 1, 1, 1, 1, 1, 1, 1, 0, 1, 0, 1,\n",
       "       0, 1, 0, 0, 0, 1, 0, 1, 1, 1, 1, 1, 1, 1, 1, 1, 1, 1, 1, 1, 1, 0,\n",
       "       1, 1, 0, 1, 1, 1, 0, 1, 1, 1, 1, 1, 0, 0, 0, 1, 1, 0, 0, 1, 1, 0,\n",
       "       1, 1, 1, 1, 1, 1, 1, 1, 1, 0, 1, 0, 1, 1, 1, 0, 1, 1, 1, 0, 1, 0,\n",
       "       1, 0, 1, 0, 1, 0, 0, 1, 1, 1, 1, 1, 1, 1, 1, 1, 1, 1, 1, 1, 0, 1,\n",
       "       1, 1, 0, 1, 1, 1, 1, 1, 0, 1, 1, 1, 1, 1, 1, 0, 1, 1, 1, 0, 1, 1,\n",
       "       1, 1, 1, 0, 1, 0, 0, 1, 1, 1, 1, 0, 1, 1, 0, 1, 1, 1, 1, 1, 1, 1,\n",
       "       0, 0, 0, 1, 1, 1, 1, 1, 1, 1, 1, 0, 1, 1, 1, 1, 1, 1, 1, 1, 1, 1,\n",
       "       1, 1, 1, 1, 1, 1, 1, 1, 1, 1, 0, 0, 1, 1, 1, 1, 1, 1, 1, 1, 1, 1,\n",
       "       0, 1, 1, 1, 1, 1, 1, 1, 1, 1, 1, 1, 1, 1, 0, 1, 0, 1, 0, 1, 1, 0,\n",
       "       1, 1, 1, 0, 0, 1, 1, 1, 1, 1, 1, 1, 0, 1, 1, 1, 1, 1, 1, 1, 1, 1,\n",
       "       1, 1, 1, 1, 1, 1, 1, 1, 1, 1, 0, 1, 1, 1, 0, 0, 1, 1, 0, 1, 1, 0,\n",
       "       1, 1, 1, 1, 1, 1, 1, 0, 1, 1, 1, 1, 1, 0, 1, 0, 1, 1, 1, 1, 1, 1,\n",
       "       1, 1, 0, 1, 1, 1, 0, 0, 1, 1, 0, 0, 1, 1, 1, 0, 0, 1, 1, 1, 1, 1,\n",
       "       1, 1, 1, 1, 0, 1, 1, 1, 1, 1, 1, 1, 1, 1, 1, 1, 1, 1, 1, 1, 1, 0,\n",
       "       0, 1, 1, 1, 1, 1, 1, 1, 0, 1, 1, 1, 1, 1, 0, 1, 1, 1, 0, 0, 1, 1,\n",
       "       1, 1, 1, 1, 1, 1, 1, 1, 1, 1, 1, 1, 1, 1, 1, 1, 1, 1, 1, 1, 1, 1,\n",
       "       1, 1, 1, 1, 0, 1, 1, 1, 0, 1, 0, 1, 1, 1, 1, 0, 1, 1, 1, 1, 1, 1,\n",
       "       1, 1, 1, 1, 1, 0, 1, 1, 1, 1, 1, 1, 1, 1, 1, 1, 0, 1, 0, 1, 1, 1,\n",
       "       1, 1, 1, 1, 0, 1, 0, 1, 1, 1, 0, 1, 1, 0, 1, 0, 1, 1, 1, 1, 1, 1,\n",
       "       1, 1, 0, 1, 1, 1, 1, 1, 1, 0, 1, 1, 1, 1, 1, 1, 1, 1, 1, 1, 0, 1,\n",
       "       0, 1, 1, 1, 1, 1, 1, 1, 1, 0, 1, 0, 0, 0, 1, 1, 1, 0, 1, 1, 1, 1,\n",
       "       1, 1, 1, 1, 1, 1, 1, 1, 0, 1, 0, 1, 0, 1, 1, 1, 1, 1, 1, 1, 1, 0,\n",
       "       1, 0, 1, 0, 1, 1, 1, 1], dtype=int64)"
      ]
     },
     "execution_count": 20,
     "metadata": {},
     "output_type": "execute_result"
    }
   ],
   "source": [
    "y_pred"
   ]
  },
  {
   "cell_type": "code",
   "execution_count": 21,
   "metadata": {},
   "outputs": [],
   "source": [
    "\n",
    "from tensorflow.keras.models import load_model\n",
    "from tensorflow.keras.preprocessing import image"
   ]
  },
  {
   "cell_type": "code",
   "execution_count": 22,
   "metadata": {},
   "outputs": [
    {
     "name": "stderr",
     "output_type": "stream",
     "text": [
      "W0806 14:47:48.038695 14600 deprecation.py:506] From C:\\Users\\acer\\Anaconda\\envs\\tensorflow_cpu\\lib\\site-packages\\tensorflow_core\\python\\ops\\init_ops.py:97: calling GlorotUniform.__init__ (from tensorflow.python.ops.init_ops) with dtype is deprecated and will be removed in a future version.\n",
      "Instructions for updating:\n",
      "Call initializer instance with the dtype argument instead of passing it to the constructor\n",
      "W0806 14:47:48.040694 14600 deprecation.py:506] From C:\\Users\\acer\\Anaconda\\envs\\tensorflow_cpu\\lib\\site-packages\\tensorflow_core\\python\\ops\\init_ops.py:97: calling Zeros.__init__ (from tensorflow.python.ops.init_ops) with dtype is deprecated and will be removed in a future version.\n",
      "Instructions for updating:\n",
      "Call initializer instance with the dtype argument instead of passing it to the constructor\n"
     ]
    }
   ],
   "source": [
    "model=load_model('model_vgg16.h5')"
   ]
  },
  {
   "cell_type": "code",
   "execution_count": 23,
   "metadata": {},
   "outputs": [],
   "source": [
    "img=image.load_img('Datasets/Test/Normal/IM-0001-0001.jpeg',target_size=(224,224))"
   ]
  },
  {
   "cell_type": "code",
   "execution_count": 24,
   "metadata": {},
   "outputs": [
    {
     "data": {
      "text/plain": [
       "array([[[32., 32., 32.],\n",
       "        [31., 31., 31.],\n",
       "        [32., 32., 32.],\n",
       "        ...,\n",
       "        [32., 32., 32.],\n",
       "        [30., 30., 30.],\n",
       "        [35., 35., 35.]],\n",
       "\n",
       "       [[34., 34., 34.],\n",
       "        [33., 33., 33.],\n",
       "        [30., 30., 30.],\n",
       "        ...,\n",
       "        [30., 30., 30.],\n",
       "        [33., 33., 33.],\n",
       "        [33., 33., 33.]],\n",
       "\n",
       "       [[33., 33., 33.],\n",
       "        [32., 32., 32.],\n",
       "        [33., 33., 33.],\n",
       "        ...,\n",
       "        [32., 32., 32.],\n",
       "        [35., 35., 35.],\n",
       "        [31., 31., 31.]],\n",
       "\n",
       "       ...,\n",
       "\n",
       "       [[33., 33., 33.],\n",
       "        [30., 30., 30.],\n",
       "        [28., 28., 28.],\n",
       "        ...,\n",
       "        [33., 33., 33.],\n",
       "        [33., 33., 33.],\n",
       "        [32., 32., 32.]],\n",
       "\n",
       "       [[30., 30., 30.],\n",
       "        [27., 27., 27.],\n",
       "        [29., 29., 29.],\n",
       "        ...,\n",
       "        [32., 32., 32.],\n",
       "        [33., 33., 33.],\n",
       "        [35., 35., 35.]],\n",
       "\n",
       "       [[32., 32., 32.],\n",
       "        [31., 31., 31.],\n",
       "        [29., 29., 29.],\n",
       "        ...,\n",
       "        [32., 32., 32.],\n",
       "        [30., 30., 30.],\n",
       "        [34., 34., 34.]]], dtype=float32)"
      ]
     },
     "execution_count": 24,
     "metadata": {},
     "output_type": "execute_result"
    }
   ],
   "source": [
    "x=image.img_to_array(img)\n",
    "x"
   ]
  },
  {
   "cell_type": "code",
   "execution_count": 25,
   "metadata": {},
   "outputs": [
    {
     "data": {
      "text/plain": [
       "(224, 224, 3)"
      ]
     },
     "execution_count": 25,
     "metadata": {},
     "output_type": "execute_result"
    }
   ],
   "source": [
    "x.shape"
   ]
  },
  {
   "cell_type": "code",
   "execution_count": 26,
   "metadata": {},
   "outputs": [],
   "source": [
    "x=x/255"
   ]
  },
  {
   "cell_type": "code",
   "execution_count": 27,
   "metadata": {},
   "outputs": [
    {
     "data": {
      "text/plain": [
       "(1, 224, 224, 3)"
      ]
     },
     "execution_count": 27,
     "metadata": {},
     "output_type": "execute_result"
    }
   ],
   "source": [
    "\n",
    "x=np.expand_dims(x,axis=0)\n",
    "img_data=preprocess_input(x)\n",
    "img_data.shape"
   ]
  },
  {
   "cell_type": "code",
   "execution_count": 28,
   "metadata": {},
   "outputs": [
    {
     "data": {
      "text/plain": [
       "array([[0.8863217 , 0.11367822]], dtype=float32)"
      ]
     },
     "execution_count": 28,
     "metadata": {},
     "output_type": "execute_result"
    }
   ],
   "source": [
    "model.predict(img_data)\n"
   ]
  },
  {
   "cell_type": "code",
   "execution_count": 29,
   "metadata": {},
   "outputs": [],
   "source": [
    "a=np.argmax(model.predict(img_data), axis=1)"
   ]
  },
  {
   "cell_type": "code",
   "execution_count": 30,
   "metadata": {},
   "outputs": [
    {
     "name": "stdout",
     "output_type": "stream",
     "text": [
      "Infected\n"
     ]
    }
   ],
   "source": [
    "if(a==1):\n",
    "    print(\"Uninfected\")\n",
    "else:\n",
    "    print(\"Infected\")"
   ]
  },
  {
   "cell_type": "code",
   "execution_count": 32,
   "metadata": {},
   "outputs": [],
   "source": [
    "imgs=image.load_img('Datasets/Test/Pneumonia/person1_virus_6.jpeg',target_size=(224,224))"
   ]
  },
  {
   "cell_type": "code",
   "execution_count": 33,
   "metadata": {},
   "outputs": [
    {
     "data": {
      "text/plain": [
       "array([[[220., 220., 220.],\n",
       "        [215., 215., 215.],\n",
       "        [211., 211., 211.],\n",
       "        ...,\n",
       "        [ 13.,  13.,  13.],\n",
       "        [ 13.,  13.,  13.],\n",
       "        [ 12.,  12.,  12.]],\n",
       "\n",
       "       [[218., 218., 218.],\n",
       "        [216., 216., 216.],\n",
       "        [212., 212., 212.],\n",
       "        ...,\n",
       "        [ 18.,  18.,  18.],\n",
       "        [ 13.,  13.,  13.],\n",
       "        [ 13.,  13.,  13.]],\n",
       "\n",
       "       [[215., 215., 215.],\n",
       "        [216., 216., 216.],\n",
       "        [209., 209., 209.],\n",
       "        ...,\n",
       "        [ 34.,  34.,  34.],\n",
       "        [ 18.,  18.,  18.],\n",
       "        [ 11.,  11.,  11.]],\n",
       "\n",
       "       ...,\n",
       "\n",
       "       [[ 23.,  23.,  23.],\n",
       "        [ 23.,  23.,  23.],\n",
       "        [ 23.,  23.,  23.],\n",
       "        ...,\n",
       "        [ 13.,  13.,  13.],\n",
       "        [ 13.,  13.,  13.],\n",
       "        [ 13.,  13.,  13.]],\n",
       "\n",
       "       [[ 23.,  23.,  23.],\n",
       "        [ 23.,  23.,  23.],\n",
       "        [ 23.,  23.,  23.],\n",
       "        ...,\n",
       "        [ 13.,  13.,  13.],\n",
       "        [ 13.,  13.,  13.],\n",
       "        [ 13.,  13.,  13.]],\n",
       "\n",
       "       [[ 23.,  23.,  23.],\n",
       "        [ 23.,  23.,  23.],\n",
       "        [ 23.,  23.,  23.],\n",
       "        ...,\n",
       "        [ 13.,  13.,  13.],\n",
       "        [ 13.,  13.,  13.],\n",
       "        [ 13.,  13.,  13.]]], dtype=float32)"
      ]
     },
     "execution_count": 33,
     "metadata": {},
     "output_type": "execute_result"
    }
   ],
   "source": [
    "x1=image.img_to_array(imgs)\n",
    "x1"
   ]
  },
  {
   "cell_type": "code",
   "execution_count": 34,
   "metadata": {},
   "outputs": [
    {
     "data": {
      "text/plain": [
       "(224, 224, 3)"
      ]
     },
     "execution_count": 34,
     "metadata": {},
     "output_type": "execute_result"
    }
   ],
   "source": [
    "x1.shape"
   ]
  },
  {
   "cell_type": "code",
   "execution_count": 35,
   "metadata": {},
   "outputs": [],
   "source": [
    "x1=x1/255"
   ]
  },
  {
   "cell_type": "code",
   "execution_count": 36,
   "metadata": {},
   "outputs": [
    {
     "data": {
      "text/plain": [
       "(1, 224, 224, 3)"
      ]
     },
     "execution_count": 36,
     "metadata": {},
     "output_type": "execute_result"
    }
   ],
   "source": [
    "\n",
    "x1=np.expand_dims(x1,axis=0)\n",
    "img_data=preprocess_input(x1)\n",
    "img_data.shape"
   ]
  },
  {
   "cell_type": "code",
   "execution_count": 37,
   "metadata": {},
   "outputs": [
    {
     "data": {
      "text/plain": [
       "array([[0.91922545, 0.08077449]], dtype=float32)"
      ]
     },
     "execution_count": 37,
     "metadata": {},
     "output_type": "execute_result"
    }
   ],
   "source": [
    "model.predict(img_data)"
   ]
  },
  {
   "cell_type": "code",
   "execution_count": 38,
   "metadata": {},
   "outputs": [],
   "source": [
    "a=np.argmax(model.predict(img_data), axis=1)"
   ]
  },
  {
   "cell_type": "code",
   "execution_count": 41,
   "metadata": {},
   "outputs": [
    {
     "data": {
      "text/plain": [
       "(1,)"
      ]
     },
     "execution_count": 41,
     "metadata": {},
     "output_type": "execute_result"
    }
   ],
   "source": [
    "a.shape"
   ]
  },
  {
   "cell_type": "code",
   "execution_count": 39,
   "metadata": {},
   "outputs": [
    {
     "name": "stdout",
     "output_type": "stream",
     "text": [
      "Infected\n"
     ]
    }
   ],
   "source": [
    "if(a==1):\n",
    "    print(\"Normal\")\n",
    "else:\n",
    "    print(\"Infected\")"
   ]
  },
  {
   "cell_type": "code",
   "execution_count": null,
   "metadata": {},
   "outputs": [],
   "source": []
  }
 ],
 "metadata": {
  "kernelspec": {
   "display_name": "Python 3",
   "language": "python",
   "name": "python3"
  },
  "language_info": {
   "codemirror_mode": {
    "name": "ipython",
    "version": 3
   },
   "file_extension": ".py",
   "mimetype": "text/x-python",
   "name": "python",
   "nbconvert_exporter": "python",
   "pygments_lexer": "ipython3",
   "version": "3.6.8"
  }
 },
 "nbformat": 4,
 "nbformat_minor": 4
}
